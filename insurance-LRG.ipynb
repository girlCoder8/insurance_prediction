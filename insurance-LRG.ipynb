{
 "cells": [
  {
   "cell_type": "code",
   "execution_count": 2,
   "metadata": {
    "collapsed": true
   },
   "outputs": [],
   "source": [
    "import pandas as pd\n",
    "import numpy as np\n",
    "import matplotlib.pyplot as plt\n",
    "%matplotlib inline"
   ]
  },
  {
   "cell_type": "code",
   "execution_count": 3,
   "outputs": [],
   "source": [
    "data=pd.read_csv(\"insurance.csv\")"
   ],
   "metadata": {
    "collapsed": false
   }
  },
  {
   "cell_type": "code",
   "execution_count": 4,
   "outputs": [
    {
     "data": {
      "text/plain": "   age  sex     bmi  children  smoker  region      charges\n0   19    0  27.900         0       1       1  16884.92400\n1   18    1  33.770         1       0       2   1725.55230\n2   28    1  33.000         3       0       2   4449.46200\n3   33    1  22.705         0       0       3  21984.47061\n4   32    1  28.880         0       0       3   3866.85520\n5   31    0  25.740         0       0       2   3756.62160\n6   46    0  33.440         1       0       2   8240.58960\n7   37    0  27.740         3       0       3   7281.50560\n8   37    1  29.830         2       0       4   6406.41070\n9   60    0  25.840         0       0       3  28923.13692",
      "text/html": "<div>\n<style scoped>\n    .dataframe tbody tr th:only-of-type {\n        vertical-align: middle;\n    }\n\n    .dataframe tbody tr th {\n        vertical-align: top;\n    }\n\n    .dataframe thead th {\n        text-align: right;\n    }\n</style>\n<table border=\"1\" class=\"dataframe\">\n  <thead>\n    <tr style=\"text-align: right;\">\n      <th></th>\n      <th>age</th>\n      <th>sex</th>\n      <th>bmi</th>\n      <th>children</th>\n      <th>smoker</th>\n      <th>region</th>\n      <th>charges</th>\n    </tr>\n  </thead>\n  <tbody>\n    <tr>\n      <th>0</th>\n      <td>19</td>\n      <td>0</td>\n      <td>27.900</td>\n      <td>0</td>\n      <td>1</td>\n      <td>1</td>\n      <td>16884.92400</td>\n    </tr>\n    <tr>\n      <th>1</th>\n      <td>18</td>\n      <td>1</td>\n      <td>33.770</td>\n      <td>1</td>\n      <td>0</td>\n      <td>2</td>\n      <td>1725.55230</td>\n    </tr>\n    <tr>\n      <th>2</th>\n      <td>28</td>\n      <td>1</td>\n      <td>33.000</td>\n      <td>3</td>\n      <td>0</td>\n      <td>2</td>\n      <td>4449.46200</td>\n    </tr>\n    <tr>\n      <th>3</th>\n      <td>33</td>\n      <td>1</td>\n      <td>22.705</td>\n      <td>0</td>\n      <td>0</td>\n      <td>3</td>\n      <td>21984.47061</td>\n    </tr>\n    <tr>\n      <th>4</th>\n      <td>32</td>\n      <td>1</td>\n      <td>28.880</td>\n      <td>0</td>\n      <td>0</td>\n      <td>3</td>\n      <td>3866.85520</td>\n    </tr>\n    <tr>\n      <th>5</th>\n      <td>31</td>\n      <td>0</td>\n      <td>25.740</td>\n      <td>0</td>\n      <td>0</td>\n      <td>2</td>\n      <td>3756.62160</td>\n    </tr>\n    <tr>\n      <th>6</th>\n      <td>46</td>\n      <td>0</td>\n      <td>33.440</td>\n      <td>1</td>\n      <td>0</td>\n      <td>2</td>\n      <td>8240.58960</td>\n    </tr>\n    <tr>\n      <th>7</th>\n      <td>37</td>\n      <td>0</td>\n      <td>27.740</td>\n      <td>3</td>\n      <td>0</td>\n      <td>3</td>\n      <td>7281.50560</td>\n    </tr>\n    <tr>\n      <th>8</th>\n      <td>37</td>\n      <td>1</td>\n      <td>29.830</td>\n      <td>2</td>\n      <td>0</td>\n      <td>4</td>\n      <td>6406.41070</td>\n    </tr>\n    <tr>\n      <th>9</th>\n      <td>60</td>\n      <td>0</td>\n      <td>25.840</td>\n      <td>0</td>\n      <td>0</td>\n      <td>3</td>\n      <td>28923.13692</td>\n    </tr>\n  </tbody>\n</table>\n</div>"
     },
     "execution_count": 4,
     "metadata": {},
     "output_type": "execute_result"
    }
   ],
   "source": [
    "data.head(10)"
   ],
   "metadata": {
    "collapsed": false
   }
  },
  {
   "cell_type": "code",
   "execution_count": 5,
   "outputs": [
    {
     "data": {
      "text/plain": "(1338, 7)"
     },
     "execution_count": 5,
     "metadata": {},
     "output_type": "execute_result"
    }
   ],
   "source": [
    "data.shape"
   ],
   "metadata": {
    "collapsed": false
   }
  },
  {
   "cell_type": "code",
   "execution_count": 6,
   "outputs": [
    {
     "name": "stdout",
     "output_type": "stream",
     "text": [
      "<class 'pandas.core.frame.DataFrame'>\n",
      "RangeIndex: 1338 entries, 0 to 1337\n",
      "Data columns (total 7 columns):\n",
      " #   Column    Non-Null Count  Dtype  \n",
      "---  ------    --------------  -----  \n",
      " 0   age       1338 non-null   int64  \n",
      " 1   sex       1338 non-null   int64  \n",
      " 2   bmi       1338 non-null   float64\n",
      " 3   children  1338 non-null   int64  \n",
      " 4   smoker    1338 non-null   int64  \n",
      " 5   region    1338 non-null   int64  \n",
      " 6   charges   1338 non-null   float64\n",
      "dtypes: float64(2), int64(5)\n",
      "memory usage: 73.3 KB\n"
     ]
    }
   ],
   "source": [
    "data.info()"
   ],
   "metadata": {
    "collapsed": false
   }
  },
  {
   "cell_type": "code",
   "execution_count": 7,
   "outputs": [],
   "source": [
    "X = data.drop('charges', axis=1)\n",
    "y = data['charges']"
   ],
   "metadata": {
    "collapsed": false
   }
  },
  {
   "cell_type": "code",
   "execution_count": 8,
   "outputs": [],
   "source": [
    "from sklearn.model_selection import train_test_split\n",
    "X_train, X_test, y_train, y_test = train_test_split(X, y, test_size = 0.20)"
   ],
   "metadata": {
    "collapsed": false
   }
  },
  {
   "cell_type": "code",
   "execution_count": 9,
   "outputs": [],
   "source": [
    "from sklearn.linear_model import LinearRegression"
   ],
   "metadata": {
    "collapsed": false
   }
  },
  {
   "cell_type": "code",
   "execution_count": 10,
   "outputs": [],
   "source": [
    "lrg=LinearRegression()\n",
    "lrg.fit(X_train,y_train)\n",
    "y_pred=lrg.predict(X_test)"
   ],
   "metadata": {
    "collapsed": false
   }
  },
  {
   "cell_type": "code",
   "execution_count": 11,
   "outputs": [],
   "source": [
    "from sklearn.metrics import r2_score"
   ],
   "metadata": {
    "collapsed": false
   }
  },
  {
   "cell_type": "code",
   "execution_count": 12,
   "outputs": [
    {
     "name": "stdout",
     "output_type": "stream",
     "text": [
      "R-squared score  0.7459040821308525\n"
     ]
    }
   ],
   "source": [
    "print(\"R-squared score \",r2_score(y_test,y_pred))"
   ],
   "metadata": {
    "collapsed": false
   }
  }
 ],
 "metadata": {
  "kernelspec": {
   "display_name": "Python 3",
   "language": "python",
   "name": "python3"
  },
  "language_info": {
   "codemirror_mode": {
    "name": "ipython",
    "version": 2
   },
   "file_extension": ".py",
   "mimetype": "text/x-python",
   "name": "python",
   "nbconvert_exporter": "python",
   "pygments_lexer": "ipython2",
   "version": "2.7.6"
  }
 },
 "nbformat": 4,
 "nbformat_minor": 0
}
